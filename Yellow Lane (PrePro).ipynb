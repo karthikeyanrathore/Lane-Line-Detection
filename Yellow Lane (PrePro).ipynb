{
 "cells": [
  {
   "cell_type": "code",
   "execution_count": 11,
   "id": "9ca4fdbb",
   "metadata": {},
   "outputs": [],
   "source": [
    "import cv2\n",
    "from matplotlib import pyplot as plt"
   ]
  },
  {
   "cell_type": "code",
   "execution_count": null,
   "id": "13f4163d",
   "metadata": {},
   "outputs": [],
   "source": [
    "img = cv2.imread(\"data/solidYellowLeft.jpg\")\n",
    "#img  = cv2.cvtColor(img , cv2.COLOR_BGR2RGB)\n",
    "plt.imshow(img)"
   ]
  },
  {
   "cell_type": "code",
   "execution_count": null,
   "id": "9bdce79a",
   "metadata": {},
   "outputs": [],
   "source": [
    "hsv = cv2.cvtColor(img, cv2.COLOR_BGR2HSV)"
   ]
  },
  {
   "cell_type": "code",
   "execution_count": null,
   "id": "24738adc",
   "metadata": {},
   "outputs": [],
   "source": [
    "plt.figure(figsize=(20,20))\n",
    "plt.subplot(1,2,1)\n",
    "plt.imshow(hsv, cmap=\"gray\")\n",
    "plt.title(\"hsv\")\n",
    "plt.savefig('images/hsv.png', transparent=True)"
   ]
  },
  {
   "cell_type": "code",
   "execution_count": null,
   "id": "d7b2ae19",
   "metadata": {},
   "outputs": [],
   "source": [
    "mask_yellow = cv2.inRange(hsv, (15,60,20), (25, 255, 255))"
   ]
  },
  {
   "cell_type": "code",
   "execution_count": null,
   "id": "12fb7ef1",
   "metadata": {},
   "outputs": [],
   "source": [
    "plt.figure(figsize=(20,20))\n",
    "plt.subplot(1,2,1)\n",
    "plt.imshow(hsv, cmap=\"gray\")\n",
    "plt.title(\"hsv\")\n",
    "\n",
    "plt.subplot(1,2,2)\n",
    "plt.imshow(mask_yellow, cmap=\"gray\")\n",
    "plt.title(\"mask_yellow\")\n",
    "\n",
    "plt.savefig('images/mask_yellow.png', transparent=True)"
   ]
  },
  {
   "cell_type": "code",
   "execution_count": null,
   "id": "bcc0e1ff",
   "metadata": {},
   "outputs": [],
   "source": [
    "mask_white = cv2.inRange(img, (200,200,200), (255, 255, 255))"
   ]
  },
  {
   "cell_type": "code",
   "execution_count": null,
   "id": "e4d1727e",
   "metadata": {},
   "outputs": [],
   "source": [
    "plt.figure(figsize=(20,20))\n",
    "\n",
    "plt.subplot(1,2,1)\n",
    "plt.imshow(mask_yellow, cmap=\"gray\")\n",
    "plt.title(\"mask_yellow\")\n",
    "\n",
    "plt.subplot(1,2,2)\n",
    "plt.imshow(mask_white, cmap=\"gray\")\n",
    "plt.title(\"mask white\")\n",
    "\n",
    "plt.savefig('images/mask_white.png', transparent=True)"
   ]
  },
  {
   "cell_type": "code",
   "execution_count": null,
   "id": "3a5d9955",
   "metadata": {},
   "outputs": [],
   "source": [
    "color_mask = cv2.bitwise_or(mask_white, mask_yellow)"
   ]
  },
  {
   "cell_type": "code",
   "execution_count": null,
   "id": "733b5add",
   "metadata": {},
   "outputs": [],
   "source": [
    "plt.figure(figsize=(20,20))\n",
    "plt.subplot(1,2,1)\n",
    "plt.imshow(color_mask, cmap=\"gray\")\n",
    "plt.title(\"color mask\")\n",
    "\n",
    "\n"
   ]
  },
  {
   "cell_type": "code",
   "execution_count": null,
   "id": "77e45dbd",
   "metadata": {},
   "outputs": [],
   "source": [
    "blur = cv2.GaussianBlur(color_mask, (5,5), 0)"
   ]
  },
  {
   "cell_type": "code",
   "execution_count": null,
   "id": "c5098e47",
   "metadata": {},
   "outputs": [],
   "source": [
    "plt.figure(figsize=(20,20))\n",
    "plt.subplot(1,2,1)\n",
    "plt.imshow(color_mask, cmap=\"gray\")\n",
    "plt.title(\"color_mask \")\n",
    "\n",
    "plt.subplot(1,2,2)\n",
    "plt.imshow(blur, cmap=\"gray\")\n",
    "plt.title(\"blur\")\n",
    "\n",
    "plt.savefig('images/color_mask_blur.png', transparent=True)"
   ]
  },
  {
   "cell_type": "code",
   "execution_count": null,
   "id": "2d460bec",
   "metadata": {},
   "outputs": [],
   "source": [
    "cc = cv2.Canny(blur, 200, 300)"
   ]
  },
  {
   "cell_type": "code",
   "execution_count": null,
   "id": "be57b8cc",
   "metadata": {},
   "outputs": [],
   "source": [
    "plt.figure(figsize=(20,20))\n",
    "plt.subplot(1,2,1)\n",
    "plt.imshow(cc, cmap=\"gray\")\n",
    "plt.title(\"c c\")"
   ]
  },
  {
   "cell_type": "code",
   "execution_count": 12,
   "id": "1be48226",
   "metadata": {},
   "outputs": [],
   "source": [
    "import numpy as np\n",
    "def roi(img , vec):\n",
    "    mask = np.zeros_like(img)\n",
    "    if len(img.shape) == 3:\n",
    "        mc = (255,) * img.shape[2]\n",
    "    else:\n",
    "        mc = 255\n",
    "    cv2.fillPoly(mask, vec, mc)\n",
    "    masked = cv2.bitwise_and(img, mask)\n",
    "    return masked"
   ]
  },
  {
   "cell_type": "code",
   "execution_count": null,
   "id": "63c84314",
   "metadata": {},
   "outputs": [],
   "source": [
    "height, width = img.shape[0:2]\n",
    "imshape = img.shape\n",
    "x_dim = np.shape(img)[1]\n",
    "y_dim = np.shape(img)[0]\n",
    "vertices = np.array([[(10,y_dim-50),(x_dim-10,y_dim-50),(x_dim/2+40,y_dim/1.65),(x_dim/2-40,y_dim/1.65)]],\n",
    "                  dtype = np.int32)\n",
    "rc = roi(cc, vertices)"
   ]
  },
  {
   "cell_type": "code",
   "execution_count": null,
   "id": "fb951965",
   "metadata": {},
   "outputs": [],
   "source": [
    "plt.figure(figsize=(20,20))\n",
    "plt.subplot(1,2,1)\n",
    "plt.imshow(rc, cmap=\"gray\")\n",
    "plt.title(\"r c\")"
   ]
  },
  {
   "cell_type": "code",
   "execution_count": null,
   "id": "32e87248",
   "metadata": {},
   "outputs": [],
   "source": [
    "Lines = cv2.HoughLinesP(rc, rho=2, theta=np.pi/180,threshold=15, \n",
    "                        lines=np.array([]), minLineLength=10, maxLineGap=20)\n",
    "\n"
   ]
  },
  {
   "cell_type": "code",
   "execution_count": null,
   "id": "7ecf5f78",
   "metadata": {},
   "outputs": [],
   "source": [
    "Lines"
   ]
  },
  {
   "cell_type": "code",
   "execution_count": null,
   "id": "58f5a369",
   "metadata": {},
   "outputs": [],
   "source": [
    "y_size = img.shape[0]\n",
    "x_size = img.shape[1]\n",
    "yL_n = 0\n",
    "xL_n = 0\n",
    "yR_n = 0\n",
    "xR_n = 0\n",
    "yL_n_1 = 5000\n",
    "xL_n_1 = 0\n",
    "yR_n_1 = 5000\n",
    "xR_n_1 = 0\n",
    "cutoff = 500\n",
    "for cord in Lines:\n",
    "    for x1,y1,x2,y2 in cord:\n",
    "        if x1 < cutoff and x2 < cutoff and y1 > yL_n:\n",
    "            yL_n = y1\n",
    "            xL_n = x1\n",
    "        if x1 < cutoff and x2 < cutoff and y2 > yL_n:\n",
    "            yL_n = y2\n",
    "            xL_n = x2\n",
    "        if x1 < cutoff and x2 < cutoff and y1 < yL_n_1:\n",
    "            yL_n_1 = y1\n",
    "            xL_n_1 = x1\n",
    "        if x1 < cutoff and x2 < cutoff and y2 < yL_n_1:\n",
    "            yL_n_1 = y2\n",
    "            xL_n_1 = x2\n",
    "\n",
    "        if x1 > cutoff and x2 > cutoff and y1 > yR_n:\n",
    "            yR_n = y1\n",
    "            xR_n = x1\n",
    "        if x1 > cutoff and x2 > cutoff and y2 > yR_n:\n",
    "            yR_n = y2\n",
    "            xR_n = x2\n",
    "        if x1 > cutoff and x2 > cutoff and y1 < yR_n_1:\n",
    "            yR_n_1 = y1\n",
    "            xR_n_1 = x1\n",
    "        if x1 > cutoff and x2 > cutoff and y2 < yR_n_1:\n",
    "            yR_n_1 = y2\n",
    "            xR_n_1 = x2\n",
    "\n",
    "m = np.copy(img)\n",
    "mL = (yL_n - yL_n_1) / (xL_n - xL_n_1)\n",
    "mR = (yR_n - yR_n_1) / (xR_n - xR_n_1)\n",
    "bL= (yL_n) - (mL*xL_n)\n",
    "bR= (yR_n) - (mR*xR_n)\n",
    "xLB = (y_size - bL) / mL\n",
    "xRB = (y_size - bR) / mR\n",
    "Li = np.zeros((img.shape[0] , img.shape[1], 3), dtype=np.uint8)\n",
    "cv2.line(Li,(int(xLB), y_size),(xL_n_1, yL_n_1),(0,255,255),10)\n",
    "cv2.line(Li,(int(xRB), y_size),(xR_n_1, yR_n_1),(0,255,255),10)"
   ]
  },
  {
   "cell_type": "code",
   "execution_count": null,
   "id": "25e9568c",
   "metadata": {},
   "outputs": [],
   "source": [
    "m = cv2.addWeighted(m, 0.8, Li, 1, 0)\n",
    "m = cv2.addWeighted(m, 0.8, Li, 1, 0)"
   ]
  },
  {
   "cell_type": "code",
   "execution_count": null,
   "id": "11c9aa10",
   "metadata": {},
   "outputs": [],
   "source": [
    "plt.imshow(m)"
   ]
  },
  {
   "cell_type": "code",
   "execution_count": 62,
   "id": "81641cdd",
   "metadata": {},
   "outputs": [],
   "source": [
    "cnt =0"
   ]
  },
  {
   "cell_type": "code",
   "execution_count": 63,
   "id": "bd23faa5",
   "metadata": {},
   "outputs": [],
   "source": [
    "def P(img):\n",
    "    global cnt\n",
    "    #print(img.shape)\n",
    "    height, width = img.shape[0:2]\n",
    "    gray = cv2.cvtColor(img , cv2.COLOR_RGB2GRAY)\n",
    "    blur = cv2.GaussianBlur(gray, (5, 5), 0)\n",
    "    cc = cv2.Canny(blur, 200, 300)\n",
    "    height, width = img.shape[0:2]\n",
    "    imshape = img.shape\n",
    "    x_dim = np.shape(img)[1]\n",
    "    y_dim = np.shape(img)[0]\n",
    "    vertices = np.array([[(10,y_dim-50),(x_dim-10,y_dim-50),(x_dim/2+40,y_dim/1.65),(x_dim/2-40,y_dim/1.65)]],\n",
    "                  dtype = np.int32)\n",
    "    rc = roi(cc, vertices)\n",
    "    Lines = cv2.HoughLinesP(rc, rho=2, theta=np.pi/180,threshold=15, \n",
    "                        lines=np.array([]), minLineLength=10, maxLineGap=20)\n",
    "\n",
    "    y_size = img.shape[0]\n",
    "    x_size = img.shape[1]\n",
    "    yL_n = 0\n",
    "    xL_n = 0\n",
    "    yR_n = 0\n",
    "    xR_n = 0\n",
    "    yL_n_1 = 5000\n",
    "    xL_n_1 = 0\n",
    "    yR_n_1 = 5000\n",
    "    xR_n_1 = 0\n",
    "    cutoff = 500\n",
    "    for cord in Lines:\n",
    "        for x1,y1,x2,y2 in cord:\n",
    "            if x1 < cutoff and x2 < cutoff and y1 > yL_n:\n",
    "                yL_n = y1\n",
    "                xL_n = x1\n",
    "            if x1 < cutoff and x2 < cutoff and y2 > yL_n:\n",
    "                yL_n = y2\n",
    "                xL_n = x2\n",
    "            if x1 < cutoff and x2 < cutoff and y1 < yL_n_1:\n",
    "                yL_n_1 = y1\n",
    "                xL_n_1 = x1\n",
    "            if x1 < cutoff and x2 < cutoff and y2 < yL_n_1:\n",
    "                yL_n_1 = y2\n",
    "                xL_n_1 = x2\n",
    "\n",
    "            if x1 > cutoff and x2 > cutoff and y1 > yR_n:\n",
    "                yR_n = y1\n",
    "                xR_n = x1\n",
    "            if x1 > cutoff and x2 > cutoff and y2 > yR_n:\n",
    "                yR_n = y2\n",
    "                xR_n = x2\n",
    "            if x1 > cutoff and x2 > cutoff and y1 < yR_n_1:\n",
    "                yR_n_1 = y1\n",
    "                xR_n_1 = x1\n",
    "            if x1 > cutoff and x2 > cutoff and y2 < yR_n_1:\n",
    "                yR_n_1 = y2\n",
    "                xR_n_1 = x2\n",
    "    \n",
    "    m = np.copy(img)\n",
    "    try:\n",
    "        mL = (yL_n - yL_n_1) / (xL_n - xL_n_1)\n",
    "    except ZeroDivisionError:\n",
    "        mL = 1 \n",
    "    mR = (yR_n - yR_n_1) / (xR_n - xR_n_1)\n",
    "    bL= (yL_n) - (mL*xL_n)\n",
    "    bR= (yR_n) - (mR*xR_n)\n",
    "    try:\n",
    "        xLB = (y_size - bL) / mL\n",
    "    except ZeroDivisionError:\n",
    "        xLB = 0\n",
    "    xRB = (y_size - bR) / mR\n",
    "    Li = np.zeros((img.shape[0] , img.shape[1], 3), dtype=np.uint8)\n",
    "    cv2.line(Li,(int(xLB), y_size),(xL_n_1, yL_n_1),(255,255,0),10)\n",
    "    cv2.line(Li,(int(xRB), y_size),(xR_n_1, yR_n_1),(255,255,0),10)\n",
    "    \n",
    "    frames = \"frame %d\" % cnt\n",
    "    cv2.putText(Li, frames , (50, 50), cv2.FONT_HERSHEY_SIMPLEX, 1, (255, 255, 255), 2, cv2.LINE_AA)\n",
    "    cnt = cnt + 1\n",
    "\n",
    "\n",
    "    \n",
    "    m = cv2.addWeighted(m, 0.8, Li, 1, 0)\n",
    "    m = cv2.addWeighted(m, 0.8, Li, 1, 0)\n",
    "    return m\n",
    "    \n",
    "    "
   ]
  },
  {
   "cell_type": "code",
   "execution_count": 64,
   "id": "794dfb57",
   "metadata": {},
   "outputs": [],
   "source": [
    "import os\n",
    "os.environ[\"IMAGEIO_FFMPEG_EXE\"] = \"/usr/local/bin/ffmpeg\""
   ]
  },
  {
   "cell_type": "code",
   "execution_count": 65,
   "id": "de434d22",
   "metadata": {},
   "outputs": [],
   "source": [
    "from moviepy.editor import VideoFileClip\n",
    "from IPython.display import HTML"
   ]
  },
  {
   "cell_type": "code",
   "execution_count": 66,
   "id": "ffd10516",
   "metadata": {},
   "outputs": [
    {
     "name": "stderr",
     "output_type": "stream",
     "text": [
      "                                                                                                                                                                 \n",
      "\n",
      "\n",
      "\u001b[A\u001b[A\u001b[A                                                                                                                                                        \n",
      "t:  42%|█████████████████████████████████████████████▎                                                              | 286/681 [13:05<00:03, 102.79it/s, now=None]\n",
      "\n",
      "\n",
      "t:  42%|█████████████████████████████████████████████▊                                                               | 286/681 [06:36<00:04, 97.15it/s, now=None]\u001b[A\u001b[A\u001b[A\n",
      "                                                                                                                                                                 \u001b[A\n",
      "\n",
      "\n",
      "\u001b[A\u001b[A\u001b[A                                                                                                                                                        \n",
      "t:  42%|█████████████████████████████████████████████▎                                                              | 286/681 [13:05<00:03, 102.79it/s, now=None]\n",
      "\n",
      "\n",
      "t:  42%|█████████████████████████████████████████████▊                                                               | 286/681 [06:36<00:04, 97.15it/s, now=None]\u001b[A\u001b[A\u001b[A\n",
      "t:  42%|█████████████████████████████████████████████▊                                                               | 286/681 [05:52<00:04, 89.48it/s, now=None]\u001b[A"
     ]
    },
    {
     "name": "stdout",
     "output_type": "stream",
     "text": [
      "Moviepy - Building video data/vids/solidYellowLeft_edge_output.mp4.\n",
      "Moviepy - Writing video data/vids/solidYellowLeft_edge_output.mp4\n",
      "\n"
     ]
    },
    {
     "name": "stderr",
     "output_type": "stream",
     "text": [
      "\n",
      "\n",
      "t:   0%|                                                                                                                       | 0/681 [00:00<?, ?it/s, now=None]\u001b[A\u001b[A\n",
      "\n",
      "t:   1%|█▏                                                                                                             | 7/681 [00:00<00:09, 69.26it/s, now=None]\u001b[A\u001b[A\n",
      "\n",
      "t:   5%|█████▉                                                                                                       | 37/681 [00:00<00:03, 201.45it/s, now=None]\u001b[A\u001b[A\n",
      "\n",
      "t:   9%|█████████▎                                                                                                   | 58/681 [00:00<00:04, 146.14it/s, now=None]\u001b[A\u001b[A\n",
      "\n",
      "t:  11%|███████████▊                                                                                                 | 74/681 [00:00<00:04, 122.76it/s, now=None]\u001b[A\u001b[A\n",
      "\n",
      "t:  13%|██████████████                                                                                               | 88/681 [00:00<00:05, 113.72it/s, now=None]\u001b[A\u001b[A\n",
      "\n",
      "t:  15%|████████████████                                                                                            | 101/681 [00:00<00:05, 107.65it/s, now=None]\u001b[A\u001b[A\n",
      "\n",
      "t:  17%|██████████████████                                                                                           | 113/681 [00:00<00:05, 98.87it/s, now=None]\u001b[A\u001b[A\n",
      "\n",
      "t:  18%|███████████████████▊                                                                                         | 124/681 [00:01<00:05, 97.22it/s, now=None]\u001b[A\u001b[A\n",
      "\n",
      "t:  20%|█████████████████████▍                                                                                       | 134/681 [00:01<00:05, 92.11it/s, now=None]\u001b[A\u001b[A\n",
      "\n",
      "t:  21%|███████████████████████▏                                                                                     | 145/681 [00:01<00:05, 95.62it/s, now=None]\u001b[A\u001b[A\n",
      "\n",
      "t:  23%|████████████████████████▉                                                                                    | 156/681 [00:01<00:05, 97.37it/s, now=None]\u001b[A\u001b[A\n",
      "\n",
      "t:  25%|██████████████████████████▉                                                                                  | 168/681 [00:01<00:05, 98.13it/s, now=None]\u001b[A\u001b[A\n",
      "\n",
      "t:  26%|████████████████████████████▍                                                                                | 178/681 [00:01<00:05, 98.20it/s, now=None]\u001b[A\u001b[A\n",
      "\n",
      "t:  28%|██████████████████████████████                                                                               | 188/681 [00:01<00:05, 95.43it/s, now=None]\u001b[A\u001b[A\n",
      "\n",
      "t:  29%|███████████████████████████████▋                                                                             | 198/681 [00:01<00:05, 87.31it/s, now=None]\u001b[A\u001b[A\n",
      "\n",
      "t:  31%|█████████████████████████████████▍                                                                           | 209/681 [00:02<00:05, 93.14it/s, now=None]\u001b[A\u001b[A\n",
      "\n",
      "t:  32%|███████████████████████████████████                                                                          | 219/681 [00:02<00:04, 93.31it/s, now=None]\u001b[A\u001b[A\n",
      "\n",
      "t:  34%|████████████████████████████████████▋                                                                        | 229/681 [00:02<00:05, 82.25it/s, now=None]\u001b[A\u001b[A\n",
      "\n",
      "t:  35%|██████████████████████████████████████▌                                                                      | 241/681 [00:02<00:04, 88.68it/s, now=None]\u001b[A\u001b[A\n",
      "\n",
      "t:  37%|████████████████████████████████████████▎                                                                    | 252/681 [00:02<00:04, 90.38it/s, now=None]\u001b[A\u001b[A\n",
      "\n",
      "t:  38%|█████████████████████████████████████████▉                                                                   | 262/681 [00:02<00:04, 89.72it/s, now=None]\u001b[A\u001b[A\n",
      "\n",
      "t:  40%|███████████████████████████████████████████▌                                                                 | 272/681 [00:02<00:04, 92.13it/s, now=None]\u001b[A\u001b[A\n",
      "\n",
      "t:  41%|█████████████████████████████████████████████▏                                                               | 282/681 [00:02<00:04, 93.23it/s, now=None]\u001b[A\u001b[A\n",
      "\n",
      "t:  43%|██████████████████████████████████████████████▋                                                              | 292/681 [00:02<00:04, 90.73it/s, now=None]\u001b[A\u001b[A\n",
      "\n",
      "t:  44%|████████████████████████████████████████████████▎                                                            | 302/681 [00:03<00:04, 85.15it/s, now=None]\u001b[A\u001b[A\n",
      "\n",
      "t:  46%|██████████████████████████████████████████████████                                                           | 313/681 [00:03<00:04, 91.47it/s, now=None]\u001b[A\u001b[A\n",
      "\n",
      "t:  47%|███████████████████████████████████████████████████▋                                                         | 323/681 [00:03<00:04, 84.75it/s, now=None]\u001b[A\u001b[A\n",
      "\n",
      "t:  49%|█████████████████████████████████████████████████████▌                                                       | 335/681 [00:03<00:03, 92.53it/s, now=None]\u001b[A\u001b[A\n",
      "\n",
      "t:  51%|███████████████████████████████████████████████████████▏                                                     | 345/681 [00:03<00:03, 87.93it/s, now=None]\u001b[A\u001b[A\n",
      "\n",
      "t:  52%|████████████████████████████████████████████████████████▊                                                    | 355/681 [00:03<00:03, 90.53it/s, now=None]\u001b[A\u001b[A\n",
      "\n",
      "t:  54%|██████████████████████████████████████████████████████████▍                                                  | 365/681 [00:03<00:03, 88.26it/s, now=None]\u001b[A\u001b[A\n",
      "\n",
      "t:  55%|████████████████████████████████████████████████████████████▎                                                | 377/681 [00:03<00:03, 95.91it/s, now=None]\u001b[A\u001b[A\n",
      "\n",
      "t:  57%|█████████████████████████████████████████████████████████████▉                                               | 387/681 [00:04<00:03, 92.19it/s, now=None]\u001b[A\u001b[A\n",
      "\n",
      "t:  58%|███████████████████████████████████████████████████████████████▋                                             | 398/681 [00:04<00:02, 96.50it/s, now=None]\u001b[A\u001b[A\n",
      "\n",
      "t:  60%|█████████████████████████████████████████████████████████████████▌                                           | 410/681 [00:04<00:02, 97.60it/s, now=None]\u001b[A\u001b[A\n",
      "\n",
      "t:  62%|███████████████████████████████████████████████████████████████████▏                                         | 420/681 [00:04<00:02, 95.57it/s, now=None]\u001b[A\u001b[A\n",
      "\n",
      "t:  63%|████████████████████████████████████████████████████████████████████▊                                        | 430/681 [00:04<00:02, 94.21it/s, now=None]\u001b[A\u001b[A\n",
      "\n",
      "t:  65%|██████████████████████████████████████████████████████████████████████▋                                      | 442/681 [00:04<00:02, 95.50it/s, now=None]\u001b[A\u001b[A\n",
      "\n",
      "t:  67%|████████████████████████████████████████████████████████████████████████▋                                    | 454/681 [00:04<00:02, 96.30it/s, now=None]\u001b[A\u001b[A\n",
      "\n",
      "t:  68%|██████████████████████████████████████████████████████████████████████████▌                                  | 466/681 [00:04<00:02, 99.02it/s, now=None]\u001b[A\u001b[A\n",
      "\n",
      "t:  70%|████████████████████████████████████████████████████████████████████████████▌                                | 478/681 [00:04<00:02, 96.64it/s, now=None]\u001b[A\u001b[A\n",
      "\n",
      "t:  72%|██████████████████████████████████████████████████████████████████████████████▍                              | 490/681 [00:05<00:01, 98.81it/s, now=None]\u001b[A\u001b[A\n",
      "\n",
      "t:  73%|████████████████████████████████████████████████████████████████████████████████                             | 500/681 [00:05<00:01, 92.47it/s, now=None]\u001b[A\u001b[A\n",
      "\n",
      "t:  75%|█████████████████████████████████████████████████████████████████████████████████▋                           | 510/681 [00:05<00:01, 93.13it/s, now=None]\u001b[A\u001b[A\n",
      "\n",
      "t:  77%|███████████████████████████████████████████████████████████████████████████████████▌                         | 522/681 [00:05<00:01, 99.56it/s, now=None]\u001b[A\u001b[A\n",
      "\n",
      "t:  78%|█████████████████████████████████████████████████████████████████████████████████████▎                       | 533/681 [00:05<00:01, 99.05it/s, now=None]\u001b[A\u001b[A\n",
      "\n",
      "t:  80%|██████████████████████████████████████████████████████████████████████████████████████▉                      | 543/681 [00:05<00:01, 94.98it/s, now=None]\u001b[A\u001b[A\n",
      "\n"
     ]
    },
    {
     "name": "stderr",
     "output_type": "stream",
     "text": [
      "t:  81%|████████████████████████████████████████████████████████████████████████████████████████▌                    | 553/681 [00:05<00:01, 89.83it/s, now=None]\u001b[A\u001b[A\n",
      "\n",
      "t:  83%|██████████████████████████████████████████████████████████████████████████████████████████                   | 563/681 [00:05<00:01, 91.43it/s, now=None]\u001b[A\u001b[A\n",
      "\n",
      "t:  84%|███████████████████████████████████████████████████████████████████████████████████████████▋                 | 573/681 [00:05<00:01, 90.46it/s, now=None]\u001b[A\u001b[A\n",
      "\n",
      "t:  86%|█████████████████████████████████████████████████████████████████████████████████████████████▊               | 586/681 [00:06<00:00, 96.78it/s, now=None]\u001b[A\u001b[A\n",
      "\n",
      "t:  88%|███████████████████████████████████████████████████████████████████████████████████████████████▋             | 598/681 [00:06<00:00, 96.30it/s, now=None]\u001b[A\u001b[A\n",
      "\n",
      "t:  89%|█████████████████████████████████████████████████████████████████████████████████████████████████▍           | 609/681 [00:06<00:00, 99.54it/s, now=None]\u001b[A\u001b[A\n",
      "\n",
      "t:  91%|███████████████████████████████████████████████████████████████████████████████████████████████████▏         | 620/681 [00:06<00:00, 98.76it/s, now=None]\u001b[A\u001b[A\n",
      "\n",
      "t:  93%|████████████████████████████████████████████████████████████████████████████████████████████████████▍       | 633/681 [00:06<00:00, 106.02it/s, now=None]\u001b[A\u001b[A\n",
      "\n",
      "t:  95%|██████████████████████████████████████████████████████████████████████████████████████████████████████▎     | 645/681 [00:06<00:00, 104.01it/s, now=None]\u001b[A\u001b[A\n",
      "\n",
      "t:  96%|████████████████████████████████████████████████████████████████████████████████████████████████████████▏   | 657/681 [00:06<00:00, 103.83it/s, now=None]\u001b[A\u001b[A\n",
      "\n",
      "t:  98%|██████████████████████████████████████████████████████████████████████████████████████████████████████████  | 669/681 [00:06<00:00, 103.14it/s, now=None]\u001b[A\u001b[A\n",
      "\n",
      "t: 100%|████████████████████████████████████████████████████████████████████████████████████████████████████████████▊| 680/681 [00:07<00:00, 96.65it/s, now=None]\u001b[A\u001b[A\n",
      "\n",
      "                                                                                                                                                                 \u001b[A\u001b[A\n",
      "\n",
      "\n",
      "\u001b[A\u001b[A\u001b[A                                                                                                                                                        \n",
      "t:  42%|█████████████████████████████████████████████▎                                                              | 286/681 [13:12<00:03, 102.79it/s, now=None]\n",
      "\n",
      "\n",
      "t:  42%|█████████████████████████████████████████████▊                                                               | 286/681 [06:43<00:04, 97.15it/s, now=None]\u001b[A\u001b[A\u001b[A\n",
      "                                                                                                                                                                 \u001b[A\n",
      "\n",
      "\n",
      "\u001b[A\u001b[A\u001b[A                                                                                                                                                        \n",
      "t:  42%|█████████████████████████████████████████████▎                                                              | 286/681 [13:12<00:03, 102.79it/s, now=None]\n",
      "\n",
      "\n",
      "t:  42%|█████████████████████████████████████████████▊                                                               | 286/681 [06:43<00:04, 97.15it/s, now=None]\u001b[A\u001b[A\u001b[A\n",
      "t:  42%|█████████████████████████████████████████████▊                                                               | 286/681 [06:00<00:04, 89.48it/s, now=None]\u001b[A"
     ]
    },
    {
     "name": "stdout",
     "output_type": "stream",
     "text": [
      "Moviepy - Done !\n",
      "Moviepy - video ready data/vids/solidYellowLeft_edge_output.mp4\n"
     ]
    }
   ],
   "source": [
    "in1 = VideoFileClip(\"data/vids/solidYellowLeft.mp4\")\n",
    "frames = in1.fl_image(P)\n",
    "frames.write_videofile(\"data/vids/solidYellowLeft_edge_output.mp4\", audio=False)"
   ]
  },
  {
   "cell_type": "code",
   "execution_count": null,
   "id": "0d336d3e",
   "metadata": {},
   "outputs": [],
   "source": []
  },
  {
   "cell_type": "code",
   "execution_count": null,
   "id": "179a5f37",
   "metadata": {},
   "outputs": [],
   "source": []
  },
  {
   "cell_type": "code",
   "execution_count": null,
   "id": "041e435a",
   "metadata": {},
   "outputs": [],
   "source": []
  }
 ],
 "metadata": {
  "kernelspec": {
   "display_name": "Python 3 (ipykernel)",
   "language": "python",
   "name": "python3"
  },
  "language_info": {
   "codemirror_mode": {
    "name": "ipython",
    "version": 3
   },
   "file_extension": ".py",
   "mimetype": "text/x-python",
   "name": "python",
   "nbconvert_exporter": "python",
   "pygments_lexer": "ipython3",
   "version": "3.9.7"
  }
 },
 "nbformat": 4,
 "nbformat_minor": 5
}
